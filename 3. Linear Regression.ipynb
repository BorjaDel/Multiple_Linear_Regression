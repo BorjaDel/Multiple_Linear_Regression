{
 "cells": [
  {
   "attachments": {},
   "cell_type": "markdown",
   "metadata": {},
   "source": [
    "# - Autor: \n",
    "### Borja Delgado González\n",
    "# - Objetivo: \n",
    "### Limpieza de datos para programar una regresión lineal para la predicción de ventas de videjuegos\n",
    "---"
   ]
  },
  {
   "attachments": {},
   "cell_type": "markdown",
   "metadata": {},
   "source": [
    "1. Importamos las librerías a usar en este proyecto"
   ]
  },
  {
   "cell_type": "code",
   "execution_count": 1,
   "metadata": {},
   "outputs": [],
   "source": [
    "#Librerías\n",
    "\n",
    "import pandas as pd\n",
    "import numpy as np\n",
    "import matplotlib.pyplot as plt\n",
    "import seaborn as sns\n",
    "from sklearn.model_selection import train_test_split\n",
    "from sklearn.linear_model import LinearRegression\n",
    "from sklearn.preprocessing import LabelEncoder\n",
    "from sklearn.metrics import mean_squared_error, mean_absolute_error, r2_score"
   ]
  },
  {
   "cell_type": "code",
   "execution_count": 2,
   "metadata": {},
   "outputs": [
    {
     "data": {
      "text/html": [
       "<div>\n",
       "<style scoped>\n",
       "    .dataframe tbody tr th:only-of-type {\n",
       "        vertical-align: middle;\n",
       "    }\n",
       "\n",
       "    .dataframe tbody tr th {\n",
       "        vertical-align: top;\n",
       "    }\n",
       "\n",
       "    .dataframe thead th {\n",
       "        text-align: right;\n",
       "    }\n",
       "</style>\n",
       "<table border=\"1\" class=\"dataframe\">\n",
       "  <thead>\n",
       "    <tr style=\"text-align: right;\">\n",
       "      <th></th>\n",
       "      <th>Unnamed: 0.1</th>\n",
       "      <th>Unnamed: 0</th>\n",
       "      <th>videojuego</th>\n",
       "      <th>plataforma</th>\n",
       "      <th>genero</th>\n",
       "      <th>editor</th>\n",
       "      <th>desarrollador</th>\n",
       "      <th>ventas_na</th>\n",
       "      <th>ventas_eu</th>\n",
       "      <th>ventas_jp</th>\n",
       "      <th>ventas_otras</th>\n",
       "      <th>ventas_tot</th>\n",
       "      <th>fecha_salida</th>\n",
       "    </tr>\n",
       "  </thead>\n",
       "  <tbody>\n",
       "    <tr>\n",
       "      <th>0</th>\n",
       "      <td>0</td>\n",
       "      <td>0</td>\n",
       "      <td>Tetris</td>\n",
       "      <td>Series</td>\n",
       "      <td>Puzzle</td>\n",
       "      <td>Nintendo</td>\n",
       "      <td>Alexey Pajitnov</td>\n",
       "      <td>NaN</td>\n",
       "      <td>NaN</td>\n",
       "      <td>NaN</td>\n",
       "      <td>NaN</td>\n",
       "      <td>NaN</td>\n",
       "      <td>1989.0</td>\n",
       "    </tr>\n",
       "    <tr>\n",
       "      <th>1</th>\n",
       "      <td>1</td>\n",
       "      <td>1</td>\n",
       "      <td>Pokemon</td>\n",
       "      <td>Series</td>\n",
       "      <td>Role-Playing</td>\n",
       "      <td>Nintendo</td>\n",
       "      <td>Game Freak</td>\n",
       "      <td>NaN</td>\n",
       "      <td>NaN</td>\n",
       "      <td>NaN</td>\n",
       "      <td>NaN</td>\n",
       "      <td>NaN</td>\n",
       "      <td>1998.0</td>\n",
       "    </tr>\n",
       "    <tr>\n",
       "      <th>2</th>\n",
       "      <td>2</td>\n",
       "      <td>2</td>\n",
       "      <td>Call of Duty</td>\n",
       "      <td>Series</td>\n",
       "      <td>Shooter</td>\n",
       "      <td>Activision</td>\n",
       "      <td>Infinity Ward</td>\n",
       "      <td>NaN</td>\n",
       "      <td>NaN</td>\n",
       "      <td>NaN</td>\n",
       "      <td>NaN</td>\n",
       "      <td>NaN</td>\n",
       "      <td>2003.0</td>\n",
       "    </tr>\n",
       "    <tr>\n",
       "      <th>3</th>\n",
       "      <td>3</td>\n",
       "      <td>3</td>\n",
       "      <td>Super Mario</td>\n",
       "      <td>Series</td>\n",
       "      <td>Platform</td>\n",
       "      <td>Nintendo</td>\n",
       "      <td>Nintendo</td>\n",
       "      <td>NaN</td>\n",
       "      <td>NaN</td>\n",
       "      <td>NaN</td>\n",
       "      <td>NaN</td>\n",
       "      <td>NaN</td>\n",
       "      <td>1983.0</td>\n",
       "    </tr>\n",
       "    <tr>\n",
       "      <th>4</th>\n",
       "      <td>4</td>\n",
       "      <td>4</td>\n",
       "      <td>Grand Theft Auto</td>\n",
       "      <td>Series</td>\n",
       "      <td>Action-Adventure</td>\n",
       "      <td>Rockstar Games</td>\n",
       "      <td>Rockstar North</td>\n",
       "      <td>NaN</td>\n",
       "      <td>NaN</td>\n",
       "      <td>NaN</td>\n",
       "      <td>NaN</td>\n",
       "      <td>NaN</td>\n",
       "      <td>1998.0</td>\n",
       "    </tr>\n",
       "  </tbody>\n",
       "</table>\n",
       "</div>"
      ],
      "text/plain": [
       "   Unnamed: 0.1  Unnamed: 0        videojuego plataforma            genero  \\\n",
       "0             0           0            Tetris     Series            Puzzle   \n",
       "1             1           1           Pokemon     Series      Role-Playing   \n",
       "2             2           2      Call of Duty     Series           Shooter   \n",
       "3             3           3       Super Mario     Series          Platform   \n",
       "4             4           4  Grand Theft Auto     Series  Action-Adventure   \n",
       "\n",
       "             editor      desarrollador  ventas_na  ventas_eu  ventas_jp  \\\n",
       "0        Nintendo    Alexey Pajitnov          NaN        NaN        NaN   \n",
       "1        Nintendo         Game Freak          NaN        NaN        NaN   \n",
       "2      Activision      Infinity Ward          NaN        NaN        NaN   \n",
       "3        Nintendo           Nintendo          NaN        NaN        NaN   \n",
       "4  Rockstar Games     Rockstar North          NaN        NaN        NaN   \n",
       "\n",
       "   ventas_otras  ventas_tot  fecha_salida  \n",
       "0           NaN         NaN        1989.0  \n",
       "1           NaN         NaN        1998.0  \n",
       "2           NaN         NaN        2003.0  \n",
       "3           NaN         NaN        1983.0  \n",
       "4           NaN         NaN        1998.0  "
      ]
     },
     "execution_count": 2,
     "metadata": {},
     "output_type": "execute_result"
    }
   ],
   "source": [
    "df = pd.read_csv('ventas_vj_completo.csv')\n",
    "df.head()"
   ]
  },
  {
   "attachments": {},
   "cell_type": "markdown",
   "metadata": {},
   "source": [
    " Eliminamos las dos primeras columnas y luego obtenemos la información del DataFrame para ver a qué nos enfrentamos."
   ]
  },
  {
   "cell_type": "code",
   "execution_count": 3,
   "metadata": {},
   "outputs": [
    {
     "data": {
      "text/html": [
       "<div>\n",
       "<style scoped>\n",
       "    .dataframe tbody tr th:only-of-type {\n",
       "        vertical-align: middle;\n",
       "    }\n",
       "\n",
       "    .dataframe tbody tr th {\n",
       "        vertical-align: top;\n",
       "    }\n",
       "\n",
       "    .dataframe thead th {\n",
       "        text-align: right;\n",
       "    }\n",
       "</style>\n",
       "<table border=\"1\" class=\"dataframe\">\n",
       "  <thead>\n",
       "    <tr style=\"text-align: right;\">\n",
       "      <th></th>\n",
       "      <th>videojuego</th>\n",
       "      <th>plataforma</th>\n",
       "      <th>genero</th>\n",
       "      <th>editor</th>\n",
       "      <th>desarrollador</th>\n",
       "      <th>ventas_na</th>\n",
       "      <th>ventas_eu</th>\n",
       "      <th>ventas_jp</th>\n",
       "      <th>ventas_otras</th>\n",
       "      <th>ventas_tot</th>\n",
       "      <th>fecha_salida</th>\n",
       "    </tr>\n",
       "  </thead>\n",
       "  <tbody>\n",
       "    <tr>\n",
       "      <th>0</th>\n",
       "      <td>Tetris</td>\n",
       "      <td>Series</td>\n",
       "      <td>Puzzle</td>\n",
       "      <td>Nintendo</td>\n",
       "      <td>Alexey Pajitnov</td>\n",
       "      <td>NaN</td>\n",
       "      <td>NaN</td>\n",
       "      <td>NaN</td>\n",
       "      <td>NaN</td>\n",
       "      <td>NaN</td>\n",
       "      <td>1989.0</td>\n",
       "    </tr>\n",
       "    <tr>\n",
       "      <th>1</th>\n",
       "      <td>Pokemon</td>\n",
       "      <td>Series</td>\n",
       "      <td>Role-Playing</td>\n",
       "      <td>Nintendo</td>\n",
       "      <td>Game Freak</td>\n",
       "      <td>NaN</td>\n",
       "      <td>NaN</td>\n",
       "      <td>NaN</td>\n",
       "      <td>NaN</td>\n",
       "      <td>NaN</td>\n",
       "      <td>1998.0</td>\n",
       "    </tr>\n",
       "    <tr>\n",
       "      <th>2</th>\n",
       "      <td>Call of Duty</td>\n",
       "      <td>Series</td>\n",
       "      <td>Shooter</td>\n",
       "      <td>Activision</td>\n",
       "      <td>Infinity Ward</td>\n",
       "      <td>NaN</td>\n",
       "      <td>NaN</td>\n",
       "      <td>NaN</td>\n",
       "      <td>NaN</td>\n",
       "      <td>NaN</td>\n",
       "      <td>2003.0</td>\n",
       "    </tr>\n",
       "    <tr>\n",
       "      <th>3</th>\n",
       "      <td>Super Mario</td>\n",
       "      <td>Series</td>\n",
       "      <td>Platform</td>\n",
       "      <td>Nintendo</td>\n",
       "      <td>Nintendo</td>\n",
       "      <td>NaN</td>\n",
       "      <td>NaN</td>\n",
       "      <td>NaN</td>\n",
       "      <td>NaN</td>\n",
       "      <td>NaN</td>\n",
       "      <td>1983.0</td>\n",
       "    </tr>\n",
       "    <tr>\n",
       "      <th>4</th>\n",
       "      <td>Grand Theft Auto</td>\n",
       "      <td>Series</td>\n",
       "      <td>Action-Adventure</td>\n",
       "      <td>Rockstar Games</td>\n",
       "      <td>Rockstar North</td>\n",
       "      <td>NaN</td>\n",
       "      <td>NaN</td>\n",
       "      <td>NaN</td>\n",
       "      <td>NaN</td>\n",
       "      <td>NaN</td>\n",
       "      <td>1998.0</td>\n",
       "    </tr>\n",
       "  </tbody>\n",
       "</table>\n",
       "</div>"
      ],
      "text/plain": [
       "         videojuego plataforma            genero            editor  \\\n",
       "0            Tetris     Series            Puzzle        Nintendo     \n",
       "1           Pokemon     Series      Role-Playing        Nintendo     \n",
       "2      Call of Duty     Series           Shooter      Activision     \n",
       "3       Super Mario     Series          Platform        Nintendo     \n",
       "4  Grand Theft Auto     Series  Action-Adventure  Rockstar Games     \n",
       "\n",
       "       desarrollador  ventas_na  ventas_eu  ventas_jp  ventas_otras  \\\n",
       "0  Alexey Pajitnov          NaN        NaN        NaN           NaN   \n",
       "1       Game Freak          NaN        NaN        NaN           NaN   \n",
       "2    Infinity Ward          NaN        NaN        NaN           NaN   \n",
       "3         Nintendo          NaN        NaN        NaN           NaN   \n",
       "4   Rockstar North          NaN        NaN        NaN           NaN   \n",
       "\n",
       "   ventas_tot  fecha_salida  \n",
       "0         NaN        1989.0  \n",
       "1         NaN        1998.0  \n",
       "2         NaN        2003.0  \n",
       "3         NaN        1983.0  \n",
       "4         NaN        1998.0  "
      ]
     },
     "execution_count": 3,
     "metadata": {},
     "output_type": "execute_result"
    }
   ],
   "source": [
    "df = df.drop(columns=df.columns[0:2], axis=1)\n",
    "\n",
    "df.head()"
   ]
  },
  {
   "cell_type": "code",
   "execution_count": 4,
   "metadata": {},
   "outputs": [
    {
     "name": "stdout",
     "output_type": "stream",
     "text": [
      "<class 'pandas.core.frame.DataFrame'>\n",
      "RangeIndex: 62436 entries, 0 to 62435\n",
      "Data columns (total 11 columns):\n",
      " #   Column         Non-Null Count  Dtype  \n",
      "---  ------         --------------  -----  \n",
      " 0   videojuego     62436 non-null  object \n",
      " 1   plataforma     62436 non-null  object \n",
      " 2   genero         62436 non-null  object \n",
      " 3   editor         62436 non-null  object \n",
      " 4   desarrollador  62436 non-null  object \n",
      " 5   ventas_na      13659 non-null  float64\n",
      " 6   ventas_eu      14023 non-null  float64\n",
      " 7   ventas_jp      7675 non-null   float64\n",
      " 8   ventas_otras   16368 non-null  float64\n",
      " 9   ventas_tot     20305 non-null  float64\n",
      " 10  fecha_salida   56784 non-null  float64\n",
      "dtypes: float64(6), object(5)\n",
      "memory usage: 5.2+ MB\n"
     ]
    }
   ],
   "source": [
    "df.info()"
   ]
  },
  {
   "attachments": {},
   "cell_type": "markdown",
   "metadata": {},
   "source": [
    "Para la creación de este algoritmo de regresión, eliminaremos todas aquellas filas que no tengan fecha de salida. Además, tendremos que crear algunos datos sintéticos para las ventas, ya que si no el dataset quedaría muy pequeño si elimináramos todos los missing_values de estas columnas.\n",
    "\n",
    "---"
   ]
  },
  {
   "attachments": {},
   "cell_type": "markdown",
   "metadata": {},
   "source": [
    "Primero realizamos la limpieza de datos..."
   ]
  },
  {
   "cell_type": "code",
   "execution_count": 5,
   "metadata": {},
   "outputs": [],
   "source": [
    "#Variables\n",
    "\n",
    "generos = {'Action' : 'Acción',\n",
    "        'Action-Adventure' : 'Acción-Aventura',\n",
    "        'Adventure' : 'Aventura',\n",
    "        'Board Game' : 'Juego de mesa',\n",
    "        'Education' : 'Educación',\n",
    "        'Fighting' : 'Lucha',\n",
    "        'Music' : 'Música',\n",
    "        'Party' : 'Fiesta',\n",
    "        'Platform' : 'Plataformas',\n",
    "        'Racing' : 'Carreras',\n",
    "        'Role-Playing' : 'RPG',\n",
    "        'Sandbox' : 'Mundo abierto',\n",
    "        'Simulation' : 'Simulación',\n",
    "        'Sports' : 'Deportes',\n",
    "        'Strategy' : 'Estrategia',\n",
    "        'Visual Novel' : 'Novela Visual'}\n",
    "\n",
    "ventas = ['ventas_na','ventas_eu','ventas_jp', 'ventas_otras', 'ventas_tot']\n",
    "\n",
    "etiquetas = ['Acción', 'Acción-Aventura', 'Aventura', 'Carreras', 'Deportes', 'Educación', 'Estrategia', 'Fiesta', 'Juego de mesa',\n",
    "            'Lucha', 'MMO', 'Misc', 'Mundo abierto', 'Música', 'Novela Visual', 'Plataformas', 'Puzzle', 'RPG', 'Shooter', 'Simulación']"
   ]
  },
  {
   "attachments": {},
   "cell_type": "markdown",
   "metadata": {},
   "source": [
    "Eliminamos las filas que tengan \"Series\" y \"All\" como plataforma porque agrupan varios juegos. También nos deshacemos de las filas sin fecha de salida.\n",
    "Traducimos los géneros al español."
   ]
  },
  {
   "cell_type": "code",
   "execution_count": 6,
   "metadata": {},
   "outputs": [
    {
     "name": "stdout",
     "output_type": "stream",
     "text": [
      "<class 'pandas.core.frame.DataFrame'>\n",
      "Int64Index: 55303 entries, 26 to 62435\n",
      "Data columns (total 11 columns):\n",
      " #   Column         Non-Null Count  Dtype  \n",
      "---  ------         --------------  -----  \n",
      " 0   videojuego     55303 non-null  object \n",
      " 1   plataforma     55303 non-null  object \n",
      " 2   genero         55303 non-null  object \n",
      " 3   editor         55303 non-null  object \n",
      " 4   desarrollador  55303 non-null  object \n",
      " 5   ventas_na      13644 non-null  float64\n",
      " 6   ventas_eu      13981 non-null  float64\n",
      " 7   ventas_jp      7636 non-null   float64\n",
      " 8   ventas_otras   16317 non-null  float64\n",
      " 9   ventas_tot     20221 non-null  float64\n",
      " 10  fecha_salida   55303 non-null  float64\n",
      "dtypes: float64(6), object(5)\n",
      "memory usage: 5.1+ MB\n"
     ]
    }
   ],
   "source": [
    "df = df.loc[df['plataforma'] != 'Series']\n",
    "df = df.loc[df['plataforma'] != 'All']\n",
    "\n",
    "df.dropna(subset = ['fecha_salida'], axis = 0, inplace=True)\n",
    "\n",
    "df['genero'] = df['genero'].replace(generos)\n",
    "\n",
    "df.info()"
   ]
  },
  {
   "attachments": {},
   "cell_type": "markdown",
   "metadata": {},
   "source": [
    "Corregimos los años..."
   ]
  },
  {
   "cell_type": "code",
   "execution_count": 7,
   "metadata": {},
   "outputs": [
    {
     "name": "stdout",
     "output_type": "stream",
     "text": [
      "1970 - 2023\n"
     ]
    }
   ],
   "source": [
    "fechas = {2070 : 1970,\n",
    "        2073 : 1973,\n",
    "        2075 : 1975,\n",
    "        2077 : 1977,\n",
    "        2078 : 1978,\n",
    "        2079 : 1979}\n",
    "\n",
    "df['fecha_salida'] = df['fecha_salida'].replace(fechas).astype(int)\n",
    "\n",
    "print(df['fecha_salida'].min(), '-', df['fecha_salida'].max())"
   ]
  },
  {
   "attachments": {},
   "cell_type": "markdown",
   "metadata": {},
   "source": [
    "Ahora vamos a crear los datos sintéticos para las columnas delas ventas. Para ello, calculamos la media y varianza de cada columna, y luego sustituimos los missing_values por un valor aleatorio del rango de la media +/- la varianza."
   ]
  },
  {
   "cell_type": "code",
   "execution_count": 8,
   "metadata": {},
   "outputs": [],
   "source": [
    "columnas_ventas = ['ventas_na','ventas_eu','ventas_jp','ventas_otras']\n",
    "for column in columnas_ventas:\n",
    "    col_mean = df[column].mean()\n",
    "    col_std = df[column].std()\n",
    "    nan_indices = df[column].isna()\n",
    "    num_missing = nan_indices.sum()\n",
    "    fill_values = np.random.normal(loc=col_mean, scale=col_std, size=num_missing)\n",
    "    df.loc[nan_indices, column] = fill_values"
   ]
  },
  {
   "cell_type": "code",
   "execution_count": 9,
   "metadata": {},
   "outputs": [],
   "source": [
    "suma_ventas = df['ventas_na'] + df['ventas_eu'] + df['ventas_jp'] + df['ventas_otras']\n",
    "df['ventas_tot'] = suma_ventas"
   ]
  },
  {
   "cell_type": "code",
   "execution_count": 10,
   "metadata": {},
   "outputs": [
    {
     "name": "stdout",
     "output_type": "stream",
     "text": [
      "<class 'pandas.core.frame.DataFrame'>\n",
      "Int64Index: 55303 entries, 26 to 62435\n",
      "Data columns (total 11 columns):\n",
      " #   Column         Non-Null Count  Dtype  \n",
      "---  ------         --------------  -----  \n",
      " 0   videojuego     55303 non-null  object \n",
      " 1   plataforma     55303 non-null  object \n",
      " 2   genero         55303 non-null  object \n",
      " 3   editor         55303 non-null  object \n",
      " 4   desarrollador  55303 non-null  object \n",
      " 5   ventas_na      55303 non-null  float64\n",
      " 6   ventas_eu      55303 non-null  float64\n",
      " 7   ventas_jp      55303 non-null  float64\n",
      " 8   ventas_otras   55303 non-null  float64\n",
      " 9   ventas_tot     55303 non-null  float64\n",
      " 10  fecha_salida   55303 non-null  int32  \n",
      "dtypes: float64(5), int32(1), object(5)\n",
      "memory usage: 4.9+ MB\n"
     ]
    }
   ],
   "source": [
    "df.info()"
   ]
  },
  {
   "cell_type": "markdown",
   "metadata": {},
   "source": [
    "Con los datos limpios y sintetizados, vamos a comprobar la correlación de las variables del dataset"
   ]
  },
  {
   "cell_type": "code",
   "execution_count": 15,
   "metadata": {},
   "outputs": [
    {
     "name": "stderr",
     "output_type": "stream",
     "text": [
      "C:\\Users\\Usuario\\AppData\\Local\\Temp\\ipykernel_3936\\2926037190.py:1: FutureWarning: The default value of numeric_only in DataFrame.corr is deprecated. In a future version, it will default to False. Select only valid columns or specify the value of numeric_only to silence this warning.\n",
      "  matriz_correlacion = df.corr()\n"
     ]
    },
    {
     "data": {
      "text/html": [
       "<div>\n",
       "<style scoped>\n",
       "    .dataframe tbody tr th:only-of-type {\n",
       "        vertical-align: middle;\n",
       "    }\n",
       "\n",
       "    .dataframe tbody tr th {\n",
       "        vertical-align: top;\n",
       "    }\n",
       "\n",
       "    .dataframe thead th {\n",
       "        text-align: right;\n",
       "    }\n",
       "</style>\n",
       "<table border=\"1\" class=\"dataframe\">\n",
       "  <thead>\n",
       "    <tr style=\"text-align: right;\">\n",
       "      <th></th>\n",
       "      <th>plataforma</th>\n",
       "      <th>genero</th>\n",
       "      <th>editor</th>\n",
       "      <th>desarrollador</th>\n",
       "      <th>ventas_na</th>\n",
       "      <th>ventas_eu</th>\n",
       "      <th>ventas_jp</th>\n",
       "      <th>ventas_otras</th>\n",
       "      <th>ventas_tot</th>\n",
       "      <th>fecha_salida</th>\n",
       "    </tr>\n",
       "  </thead>\n",
       "  <tbody>\n",
       "    <tr>\n",
       "      <th>plataforma</th>\n",
       "      <td>1.000000</td>\n",
       "      <td>-0.010818</td>\n",
       "      <td>0.006265</td>\n",
       "      <td>-0.017334</td>\n",
       "      <td>0.006796</td>\n",
       "      <td>0.010206</td>\n",
       "      <td>-0.017384</td>\n",
       "      <td>0.018599</td>\n",
       "      <td>0.005884</td>\n",
       "      <td>0.224464</td>\n",
       "    </tr>\n",
       "    <tr>\n",
       "      <th>genero</th>\n",
       "      <td>-0.010818</td>\n",
       "      <td>1.000000</td>\n",
       "      <td>0.023300</td>\n",
       "      <td>0.026824</td>\n",
       "      <td>0.013411</td>\n",
       "      <td>0.012743</td>\n",
       "      <td>0.014593</td>\n",
       "      <td>-0.005940</td>\n",
       "      <td>0.018492</td>\n",
       "      <td>0.000451</td>\n",
       "    </tr>\n",
       "    <tr>\n",
       "      <th>editor</th>\n",
       "      <td>0.006265</td>\n",
       "      <td>0.023300</td>\n",
       "      <td>1.000000</td>\n",
       "      <td>0.383574</td>\n",
       "      <td>-0.002480</td>\n",
       "      <td>0.009377</td>\n",
       "      <td>0.006595</td>\n",
       "      <td>0.009921</td>\n",
       "      <td>0.006045</td>\n",
       "      <td>0.023455</td>\n",
       "    </tr>\n",
       "    <tr>\n",
       "      <th>desarrollador</th>\n",
       "      <td>-0.017334</td>\n",
       "      <td>0.026824</td>\n",
       "      <td>0.383574</td>\n",
       "      <td>1.000000</td>\n",
       "      <td>0.005619</td>\n",
       "      <td>0.007580</td>\n",
       "      <td>-0.001638</td>\n",
       "      <td>0.010878</td>\n",
       "      <td>0.008082</td>\n",
       "      <td>0.087053</td>\n",
       "    </tr>\n",
       "    <tr>\n",
       "      <th>ventas_na</th>\n",
       "      <td>0.006796</td>\n",
       "      <td>0.013411</td>\n",
       "      <td>-0.002480</td>\n",
       "      <td>0.005619</td>\n",
       "      <td>1.000000</td>\n",
       "      <td>0.188429</td>\n",
       "      <td>0.082076</td>\n",
       "      <td>0.174468</td>\n",
       "      <td>0.803516</td>\n",
       "      <td>-0.018672</td>\n",
       "    </tr>\n",
       "    <tr>\n",
       "      <th>ventas_eu</th>\n",
       "      <td>0.010206</td>\n",
       "      <td>0.012743</td>\n",
       "      <td>0.009377</td>\n",
       "      <td>0.007580</td>\n",
       "      <td>0.188429</td>\n",
       "      <td>1.000000</td>\n",
       "      <td>0.077171</td>\n",
       "      <td>0.197269</td>\n",
       "      <td>0.613706</td>\n",
       "      <td>0.000377</td>\n",
       "    </tr>\n",
       "    <tr>\n",
       "      <th>ventas_jp</th>\n",
       "      <td>-0.017384</td>\n",
       "      <td>0.014593</td>\n",
       "      <td>0.006595</td>\n",
       "      <td>-0.001638</td>\n",
       "      <td>0.082076</td>\n",
       "      <td>0.077171</td>\n",
       "      <td>1.000000</td>\n",
       "      <td>0.055063</td>\n",
       "      <td>0.429619</td>\n",
       "      <td>-0.028744</td>\n",
       "    </tr>\n",
       "    <tr>\n",
       "      <th>ventas_otras</th>\n",
       "      <td>0.018599</td>\n",
       "      <td>-0.005940</td>\n",
       "      <td>0.009921</td>\n",
       "      <td>0.010878</td>\n",
       "      <td>0.174468</td>\n",
       "      <td>0.197269</td>\n",
       "      <td>0.055063</td>\n",
       "      <td>1.000000</td>\n",
       "      <td>0.366173</td>\n",
       "      <td>0.011916</td>\n",
       "    </tr>\n",
       "    <tr>\n",
       "      <th>ventas_tot</th>\n",
       "      <td>0.005884</td>\n",
       "      <td>0.018492</td>\n",
       "      <td>0.006045</td>\n",
       "      <td>0.008082</td>\n",
       "      <td>0.803516</td>\n",
       "      <td>0.613706</td>\n",
       "      <td>0.429619</td>\n",
       "      <td>0.366173</td>\n",
       "      <td>1.000000</td>\n",
       "      <td>-0.020174</td>\n",
       "    </tr>\n",
       "    <tr>\n",
       "      <th>fecha_salida</th>\n",
       "      <td>0.224464</td>\n",
       "      <td>0.000451</td>\n",
       "      <td>0.023455</td>\n",
       "      <td>0.087053</td>\n",
       "      <td>-0.018672</td>\n",
       "      <td>0.000377</td>\n",
       "      <td>-0.028744</td>\n",
       "      <td>0.011916</td>\n",
       "      <td>-0.020174</td>\n",
       "      <td>1.000000</td>\n",
       "    </tr>\n",
       "  </tbody>\n",
       "</table>\n",
       "</div>"
      ],
      "text/plain": [
       "               plataforma    genero    editor  desarrollador  ventas_na  \\\n",
       "plataforma       1.000000 -0.010818  0.006265      -0.017334   0.006796   \n",
       "genero          -0.010818  1.000000  0.023300       0.026824   0.013411   \n",
       "editor           0.006265  0.023300  1.000000       0.383574  -0.002480   \n",
       "desarrollador   -0.017334  0.026824  0.383574       1.000000   0.005619   \n",
       "ventas_na        0.006796  0.013411 -0.002480       0.005619   1.000000   \n",
       "ventas_eu        0.010206  0.012743  0.009377       0.007580   0.188429   \n",
       "ventas_jp       -0.017384  0.014593  0.006595      -0.001638   0.082076   \n",
       "ventas_otras     0.018599 -0.005940  0.009921       0.010878   0.174468   \n",
       "ventas_tot       0.005884  0.018492  0.006045       0.008082   0.803516   \n",
       "fecha_salida     0.224464  0.000451  0.023455       0.087053  -0.018672   \n",
       "\n",
       "               ventas_eu  ventas_jp  ventas_otras  ventas_tot  fecha_salida  \n",
       "plataforma      0.010206  -0.017384      0.018599    0.005884      0.224464  \n",
       "genero          0.012743   0.014593     -0.005940    0.018492      0.000451  \n",
       "editor          0.009377   0.006595      0.009921    0.006045      0.023455  \n",
       "desarrollador   0.007580  -0.001638      0.010878    0.008082      0.087053  \n",
       "ventas_na       0.188429   0.082076      0.174468    0.803516     -0.018672  \n",
       "ventas_eu       1.000000   0.077171      0.197269    0.613706      0.000377  \n",
       "ventas_jp       0.077171   1.000000      0.055063    0.429619     -0.028744  \n",
       "ventas_otras    0.197269   0.055063      1.000000    0.366173      0.011916  \n",
       "ventas_tot      0.613706   0.429619      0.366173    1.000000     -0.020174  \n",
       "fecha_salida    0.000377  -0.028744      0.011916   -0.020174      1.000000  "
      ]
     },
     "execution_count": 15,
     "metadata": {},
     "output_type": "execute_result"
    }
   ],
   "source": [
    "matriz_correlacion = df.corr()\n",
    "matriz_correlacion"
   ]
  },
  {
   "cell_type": "code",
   "execution_count": 16,
   "metadata": {},
   "outputs": [
    {
     "data": {
      "image/png": "[encoded data removed]",
      "text/plain": [
       "<Figure size 2000x2000 with 2 Axes>"
      ]
     },
     "metadata": {},
     "output_type": "display_data"
    }
   ],
   "source": [
    "plt.figure(figsize=(20,20))\n",
    "\n",
    "p = sns.heatmap(matriz_correlacion, annot=True, square=True)"
   ]
  },
  {
   "cell_type": "markdown",
   "metadata": {},
   "source": [
    "Transformamos algunas variables para el entrenamiento del algortimo. LabelEncoder para pasar variables \"string\" a números."
   ]
  },
  {
   "cell_type": "code",
   "execution_count": 11,
   "metadata": {},
   "outputs": [],
   "source": [
    "encoder = LabelEncoder()\n",
    "\n",
    "columnas_encoder = ['plataforma', 'genero', 'editor', 'desarrollador']\n",
    "for columna in columnas_encoder:\n",
    "    df[columna] = encoder.fit_transform(df[columna])"
   ]
  },
  {
   "attachments": {},
   "cell_type": "markdown",
   "metadata": {},
   "source": [
    "Al haber generado datos sintéticos tenemos que tener en cuenta que la eficacia del algoritmo resultante no será muy buena. La idea de generar estos datos es poder crear el algoritmo y con el tiempo, ir añadiendo datos reales para mejorar su eficacia a la hora de predecir."
   ]
  },
  {
   "cell_type": "code",
   "execution_count": 12,
   "metadata": {},
   "outputs": [],
   "source": [
    "X = df.drop(['ventas_tot', 'videojuego'], axis=1)\n",
    "y = df['ventas_tot']\n",
    "\n",
    "X_train, X_test, y_train, y_test = train_test_split(X, y, test_size=0.2, random_state=89)"
   ]
  },
  {
   "cell_type": "code",
   "execution_count": 13,
   "metadata": {},
   "outputs": [],
   "source": [
    "lreg = LinearRegression()\n",
    "lreg.fit(X_train, y_train)\n",
    "y_pred = lreg.predict(X_test)"
   ]
  },
  {
   "cell_type": "code",
   "execution_count": 19,
   "metadata": {},
   "outputs": [
    {
     "name": "stdout",
     "output_type": "stream",
     "text": [
      "MSE: 2.694612010621901e-27\n",
      "MAE: 4.675293255408762e-14\n",
      "R2: 1.0\n"
     ]
    }
   ],
   "source": [
    "print(\"MSE:\", mean_squared_error(y_test, y_pred))\n",
    "print(\"MAE:\", mean_absolute_error(y_test, y_pred))\n",
    "print(\"R2:\", lreg.score(X_train, y_train))"
   ]
  },
  {
   "cell_type": "markdown",
   "metadata": {},
   "source": [
    "El modelo predice demasiado bien. MSE es demasiado bajo, las predicciones se encuentra de media muy cerca de los valores reales. Al haber creado datos sintéticos a partir de la media y varianza es normal que el algoritmo prediga con tanta eficacia.\n",
    "\n",
    "En un futuro habría que introducir más datos reales para disminuir el sobreajuste del algoritmo."
   ]
  }
 ],
 "metadata": {
  "kernelspec": {
   "display_name": "Python 3",
   "language": "python",
   "name": "python3"
  },
  "language_info": {
   "codemirror_mode": {
    "name": "ipython",
    "version": 3
   },
   "file_extension": ".py",
   "mimetype": "text/x-python",
   "name": "python",
   "nbconvert_exporter": "python",
   "pygments_lexer": "ipython3",
   "version": "3.10.11"
  },
  "orig_nbformat": 4
 },
 "nbformat": 4,
 "nbformat_minor": 2
}
